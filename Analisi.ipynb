{
 "cells": [
  {
   "cell_type": "code",
   "execution_count": 3,
   "id": "c2e67860-dc4a-491a-8411-f8963fc28b73",
   "metadata": {},
   "outputs": [],
   "source": [
    "import numpy as np\n",
    "import pandas as pd\n",
    "import seaborn as sns\n",
    "import matplotlib.pyplot as plt\n",
    "\n",
    "rs = pd.read_csv('Regular_Season.csv')\n",
    "po = pd.read_csv('Playoff.csv')\n",
    "mvp = pd.read_csv('mvp.csv')"
   ]
  },
  {
   "cell_type": "markdown",
   "id": "ad0006a6-0d0f-4320-920d-e594165d0ca2",
   "metadata": {},
   "source": [
    "Analisi sui tipi:"
   ]
  },
  {
   "cell_type": "code",
   "execution_count": 4,
   "id": "fd3899c0-135e-4086-8d15-e883703bfa09",
   "metadata": {},
   "outputs": [],
   "source": [
    "rs[\"Player\"] = rs['Player'].astype('string')\n",
    "rs[\"Team\"] = rs['Team'].astype('string')\n",
    "rs[\"Pos\"] = rs['Pos'].astype('string')\n",
    "\n",
    "po[\"Player\"] = po['Player'].astype('string')\n",
    "po[\"Team\"] = po['Team'].astype('string')\n",
    "po[\"Pos\"] = po['Pos'].astype('string')\n",
    "\n",
    "mvp[\"Player\"] = mvp['Player'].astype('string')\n",
    "mvp[\"Team\"] = mvp['Team'].astype('string')"
   ]
  },
  {
   "cell_type": "markdown",
   "id": "1b75d300-8c39-4b93-a097-5693fa883640",
   "metadata": {},
   "source": [
    "Conversione in percentuale:"
   ]
  },
  {
   "cell_type": "code",
   "execution_count": 5,
   "id": "4489b363-cc79-418a-9aa6-b56ca713f5d9",
   "metadata": {},
   "outputs": [],
   "source": [
    "#rs[['FG%', '3P%', '2P%', 'eFG%', 'FT%']] = rs[['FG%', '3P%', '2P%', 'eFG%', 'FT%']] * 100\n",
    "\n",
    "#po[['FG%', '3P%', '2P%', 'eFG%', 'FT%']] = po[['FG%', '3P%', '2P%', 'eFG%', 'FT%']] * 100\n",
    "\n",
    "if mvp['FG%'].mean() < 1:\n",
    "    mvp[['FG%', '3P%', 'FT%']] = mvp[['FG%', '3P%', 'FT%']] * 100"
   ]
  },
  {
   "cell_type": "markdown",
   "id": "9d7293c9-021a-40cd-8fb0-37026cfcfdf3",
   "metadata": {},
   "source": [
    "Rinominazione colonne <i>mvp</i>:"
   ]
  },
  {
   "cell_type": "code",
   "execution_count": 6,
   "id": "099e432b-9f03-4652-9100-66cc6c7f128b",
   "metadata": {},
   "outputs": [],
   "source": [
    "mvp.rename(columns={'Rank':'Rk', 'Tm':'Team'}, inplace=True)"
   ]
  },
  {
   "cell_type": "markdown",
   "id": "11f2dd5d-b807-4dfb-abc0-e2a5af83a7cf",
   "metadata": {},
   "source": [
    "Aggiunta delle percentuali in <i>mvp</i>:"
   ]
  },
  {
   "cell_type": "code",
   "execution_count": 7,
   "id": "5551c257-a176-4845-a295-0d5645d013e8",
   "metadata": {},
   "outputs": [],
   "source": [
    "# RICORDA: MVP è quello della stagione regolare\n",
    "if '2P%' not in mvp.columns:\n",
    "    mvp = pd.merge(mvp, rs[['Player', '2P%', 'eFG%']], how='inner', on='Player')"
   ]
  },
  {
   "cell_type": "markdown",
   "id": "aa502160-6133-42ba-a927-669a7a132526",
   "metadata": {},
   "source": [
    "Aggiungiamo la colonna efficienza:"
   ]
  },
  {
   "cell_type": "code",
   "execution_count": 8,
   "id": "42c91272-9a09-4f4e-a3f4-b04152bdb505",
   "metadata": {},
   "outputs": [],
   "source": [
    "po['EFF'] = po['PTS'] + po['TRB'] + po['AST'] + po['STL'] + po['BLK'] - (po['TOV'] + po['PF'] + (po['FGA'] - po['FG']) + (po['FTA'] - po['FT']))\n",
    "rs['EFF'] = rs['PTS'] + rs['TRB'] + rs['AST'] + rs['STL'] + rs['BLK'] - (rs['TOV'] + rs['PF'] + (rs['FGA'] - rs['FG']) + (rs['FTA'] - rs['FT']))"
   ]
  },
  {
   "cell_type": "markdown",
   "id": "210ae729-354f-42a3-8286-d623f324ddc7",
   "metadata": {},
   "source": [
    "Modifica percentuali: "
   ]
  },
  {
   "cell_type": "code",
   "execution_count": 11,
   "id": "61658f3a-7f10-4844-9749-c1fc43791b26",
   "metadata": {},
   "outputs": [],
   "source": [
    "# le statistiche dei giocatori con il 100% avevano più zeri di quelli necessari\n",
    "rs.loc[rs['FT%'] > 100, 'FT%'] = rs.loc[rs['FT%'] > 100, 'FT%'] / 100\n",
    "po.loc[po['FG%'] > 100, 'FG%'] = po.loc[po['FG%'] > 100, 'FG%'] / 100\n",
    "po.loc[po['2P%'] > 100, '2P%'] = po.loc[po['2P%'] > 100, '2P%'] / 100\n",
    "po.loc[po['FT%'] > 100, 'FT%'] = po.loc[po['FT%'] > 100, 'FT%'] / 100\n",
    "po.loc[po['3P%'] > 100, '3P%'] = po.loc[po['3P%'] > 100, '3P%'] / 100\n",
    "rs.loc[rs['2P%'] > 100, '2P%'] = rs.loc[rs['2P%'] > 100, '2P%'] / 100\n",
    "rs.loc[rs['FG%'] > 100, 'FG%'] = rs.loc[rs['FG%'] > 100, 'FG%'] / 100\n",
    "rs.loc[rs['3P%'] > 100, '3P%'] = rs.loc[rs['3P%'] > 100, '3P%'] / 100"
   ]
  },
  {
   "cell_type": "markdown",
   "id": "96dff1a3-e167-4802-b796-9297ee45adb0",
   "metadata": {},
   "source": [
    "Salvataggi finali:"
   ]
  },
  {
   "cell_type": "code",
   "execution_count": 12,
   "id": "3262b40a-c520-4e12-86a0-f2b7b6435a63",
   "metadata": {},
   "outputs": [],
   "source": [
    "rs.to_csv('Regular_Season.csv', index=False)\n",
    "po.to_csv('Playoff.csv', index=False)\n",
    "mvp.to_csv('mvp.csv', index=False)"
   ]
  },
  {
   "cell_type": "code",
   "execution_count": null,
   "id": "e5ffb6d5-3785-421d-95d7-ab621afa7cf2",
   "metadata": {},
   "outputs": [],
   "source": []
  }
 ],
 "metadata": {
  "kernelspec": {
   "display_name": "Python 3 (ipykernel)",
   "language": "python",
   "name": "python3"
  },
  "language_info": {
   "codemirror_mode": {
    "name": "ipython",
    "version": 3
   },
   "file_extension": ".py",
   "mimetype": "text/x-python",
   "name": "python",
   "nbconvert_exporter": "python",
   "pygments_lexer": "ipython3",
   "version": "3.13.2"
  }
 },
 "nbformat": 4,
 "nbformat_minor": 5
}
